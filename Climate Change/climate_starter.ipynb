{
 "cells": [
  {
   "cell_type": "code",
   "execution_count": 18,
   "metadata": {},
   "outputs": [],
   "source": [
    "%matplotlib inline\n",
    "from matplotlib import style\n",
    "style.use('fivethirtyeight')\n",
    "import matplotlib.pyplot as plt\n"
   ]
  },
  {
   "cell_type": "code",
   "execution_count": 19,
   "metadata": {},
   "outputs": [],
   "source": [
    "import numpy as np\n",
    "import pandas as pd"
   ]
  },
  {
   "cell_type": "code",
   "execution_count": 20,
   "metadata": {},
   "outputs": [],
   "source": [
    "import datetime as dt\n",
    "from datetime import datetime"
   ]
  },
  {
   "cell_type": "markdown",
   "metadata": {},
   "source": [
    "# Reflect Tables into SQLAlchemy ORM"
   ]
  },
  {
   "cell_type": "code",
   "execution_count": 21,
   "metadata": {},
   "outputs": [],
   "source": [
    "# Python SQL toolkit and Object Relational Mapper\n",
    "import sqlalchemy\n",
    "from sqlalchemy.ext.automap import automap_base\n",
    "from sqlalchemy.orm import Session\n",
    "from sqlalchemy import create_engine, inspect, func, desc, asc\n"
   ]
  },
  {
   "cell_type": "code",
   "execution_count": 22,
   "metadata": {},
   "outputs": [],
   "source": [
    "engine = create_engine(\"sqlite:///Resources/hawaii.sqlite\")"
   ]
  },
  {
   "cell_type": "code",
   "execution_count": 23,
   "metadata": {},
   "outputs": [],
   "source": [
    "# reflect an existing database into a new model\n",
    "Base = automap_base()\n",
    "# reflect the tables\n",
    "Base.prepare(engine, reflect=True)"
   ]
  },
  {
   "cell_type": "code",
   "execution_count": 24,
   "metadata": {},
   "outputs": [
    {
     "data": {
      "text/plain": [
       "['measurement', 'station']"
      ]
     },
     "execution_count": 24,
     "metadata": {},
     "output_type": "execute_result"
    }
   ],
   "source": [
    "# We can view all of the classes that automap found\n",
    "Base.classes.keys()"
   ]
  },
  {
   "cell_type": "code",
   "execution_count": 25,
   "metadata": {},
   "outputs": [],
   "source": [
    "# Save references to each table\n",
    "Measurement = Base.classes.measurement\n",
    "Station = Base.classes.station"
   ]
  },
  {
   "cell_type": "code",
   "execution_count": 26,
   "metadata": {},
   "outputs": [],
   "source": [
    "# Create our session (link) from Python to the DB\n",
    "session = Session(engine)"
   ]
  },
  {
   "cell_type": "code",
   "execution_count": 27,
   "metadata": {},
   "outputs": [
    {
     "data": {
      "text/plain": [
       "{'_sa_instance_state': <sqlalchemy.orm.state.InstanceState at 0x2c63d1df3c8>,\n",
       " 'prcp': 0.08,\n",
       " 'station': 'USC00519397',\n",
       " 'tobs': 65.0,\n",
       " 'date': '2010-01-01',\n",
       " 'id': 1}"
      ]
     },
     "execution_count": 27,
     "metadata": {},
     "output_type": "execute_result"
    }
   ],
   "source": [
    "# Display the row's columns and data in dictionary format\n",
    "first_row = session.query(Measurement).first()\n",
    "first_row.__dict__"
   ]
  },
  {
   "cell_type": "code",
   "execution_count": 28,
   "metadata": {},
   "outputs": [
    {
     "name": "stdout",
     "output_type": "stream",
     "text": [
      "('USC00519397',)\n",
      "('USC00519397',)\n",
      "('USC00519397',)\n",
      "('USC00519397',)\n",
      "('USC00519397',)\n",
      "('USC00519397',)\n",
      "('USC00519397',)\n",
      "('USC00519397',)\n",
      "('USC00519397',)\n",
      "('USC00519397',)\n",
      "('USC00519397',)\n",
      "('USC00519397',)\n",
      "('USC00519397',)\n",
      "('USC00519397',)\n",
      "('USC00519397',)\n"
     ]
    }
   ],
   "source": [
    "# Use the session to query Measurement table and display the first 5 trade volumes\n",
    "for row in session.query(Measurement.station).limit(15).all():\n",
    "    print(row)"
   ]
  },
  {
   "cell_type": "code",
   "execution_count": 29,
   "metadata": {},
   "outputs": [
    {
     "name": "stdout",
     "output_type": "stream",
     "text": [
      "id INTEGER\n",
      "station TEXT\n",
      "date TEXT\n",
      "prcp FLOAT\n",
      "tobs FLOAT\n"
     ]
    }
   ],
   "source": [
    "inspector = inspect(engine)\n",
    "columns = inspector.get_columns('measurement')\n",
    "for c in columns:\n",
    "    print(c['name'], c[\"type\"])"
   ]
  },
  {
   "cell_type": "code",
   "execution_count": 30,
   "metadata": {},
   "outputs": [
    {
     "data": {
      "text/plain": [
       "{'_sa_instance_state': <sqlalchemy.orm.state.InstanceState at 0x2c63d1dff98>,\n",
       " 'elevation': 3.0,\n",
       " 'longitude': -157.8168,\n",
       " 'name': 'WAIKIKI 717.2, HI US',\n",
       " 'id': 1,\n",
       " 'latitude': 21.2716,\n",
       " 'station': 'USC00519397'}"
      ]
     },
     "execution_count": 30,
     "metadata": {},
     "output_type": "execute_result"
    }
   ],
   "source": [
    "# Display the row's columns and data in dictionary format\n",
    "first_row = session.query(Station).first()\n",
    "first_row.__dict__"
   ]
  },
  {
   "cell_type": "code",
   "execution_count": 31,
   "metadata": {},
   "outputs": [
    {
     "name": "stdout",
     "output_type": "stream",
     "text": [
      "('USC00519397',)\n",
      "('USC00513117',)\n",
      "('USC00514830',)\n",
      "('USC00517948',)\n",
      "('USC00518838',)\n",
      "('USC00519523',)\n",
      "('USC00519281',)\n",
      "('USC00511918',)\n",
      "('USC00516128',)\n"
     ]
    }
   ],
   "source": [
    "# Use the session to query Dow table and display the first 5 trade volumes\n",
    "for row in session.query(Station.station).limit(15).all():\n",
    "    print(row)"
   ]
  },
  {
   "cell_type": "code",
   "execution_count": 32,
   "metadata": {},
   "outputs": [
    {
     "name": "stdout",
     "output_type": "stream",
     "text": [
      "id INTEGER\n",
      "station TEXT\n",
      "name TEXT\n",
      "latitude FLOAT\n",
      "longitude FLOAT\n",
      "elevation FLOAT\n"
     ]
    }
   ],
   "source": [
    "inspector = inspect(engine)\n",
    "columns = inspector.get_columns('station')\n",
    "for c in columns:\n",
    "    print(c['name'], c[\"type\"])"
   ]
  },
  {
   "cell_type": "markdown",
   "metadata": {},
   "source": [
    "# Exploratory Climate Analysis"
   ]
  },
  {
   "cell_type": "code",
   "execution_count": 33,
   "metadata": {},
   "outputs": [
    {
     "data": {
      "text/plain": [
       "[('2017-08-23', 'USC00519397', 0.0, 81.0, 2724),\n",
       " ('2017-08-23', 'USC00514830', 0.0, 82.0, 7635),\n",
       " ('2017-08-23', 'USC00519523', 0.08, 82.0, 12187),\n",
       " ('2017-08-23', 'USC00516128', 0.45, 76.0, 19550),\n",
       " ('2017-08-22', 'USC00519397', 0.0, 82.0, 2723),\n",
       " ('2017-08-22', 'USC00519523', 0.0, 82.0, 12186),\n",
       " ('2017-08-22', 'USC00516128', 0.5, 76.0, 19549),\n",
       " ('2017-08-21', 'USC00519397', 0.0, 81.0, 2722),\n",
       " ('2017-08-21', 'USC00514830', 0.02, 79.0, 7634),\n",
       " ('2017-08-21', 'USC00519523', None, 82.0, 12185)]"
      ]
     },
     "execution_count": 33,
     "metadata": {},
     "output_type": "execute_result"
    }
   ],
   "source": [
    "#Explore the date data\n",
    "\n",
    "results = session.query(Measurement.date, Measurement.station, Measurement.prcp, Measurement.tobs, Measurement.id).\\\n",
    "    order_by(Measurement.date.desc()).all()\n",
    "[result for result in results[:10]]\n",
    "\n",
    "#session.query(Measurement).order_by(desc(Measurement.date))\n",
    "#[date for date, in session.query(Measurement.date)]"
   ]
  },
  {
   "cell_type": "code",
   "execution_count": 34,
   "metadata": {},
   "outputs": [],
   "source": [
    "#Test datetime and timedelta\n",
    "\n",
    "#last_date = dt.date(2017, 8, 23) - dt.timedelta(days=365)\n",
    "#print(last_date)\n",
    "\n",
    "#Perform a query to retrieve the data and precipitation scores\n",
    "\n",
    "#last_12_months_test = session.query(Measurement.date, Measurement.station, Measurement.prcp).\\\n",
    "    #filter(func(date(Measurement.date) > last_date)\n",
    "           \n",
    "#results = session.query(Measurement.date, Measurement.station, Measurement.prcp).\\\n",
    "    #filter(Measurement.date > \"2016-08-23\")\n",
    "\n",
    "#date = [result[0] for result in results]\n",
    "#station = [result[1] for result in results]\n",
    "#precip = [result[2] for result in results]\n"
   ]
  },
  {
   "cell_type": "code",
   "execution_count": 35,
   "metadata": {},
   "outputs": [
    {
     "data": {
      "text/html": [
       "<div>\n",
       "<style scoped>\n",
       "    .dataframe tbody tr th:only-of-type {\n",
       "        vertical-align: middle;\n",
       "    }\n",
       "\n",
       "    .dataframe tbody tr th {\n",
       "        vertical-align: top;\n",
       "    }\n",
       "\n",
       "    .dataframe thead th {\n",
       "        text-align: right;\n",
       "    }\n",
       "</style>\n",
       "<table border=\"1\" class=\"dataframe\">\n",
       "  <thead>\n",
       "    <tr style=\"text-align: right;\">\n",
       "      <th></th>\n",
       "      <th>Precipitation</th>\n",
       "    </tr>\n",
       "    <tr>\n",
       "      <th>Date</th>\n",
       "      <th></th>\n",
       "    </tr>\n",
       "  </thead>\n",
       "  <tbody>\n",
       "    <tr>\n",
       "      <th>2017-08-23</th>\n",
       "      <td>0.45</td>\n",
       "    </tr>\n",
       "    <tr>\n",
       "      <th>2017-08-22</th>\n",
       "      <td>0.50</td>\n",
       "    </tr>\n",
       "    <tr>\n",
       "      <th>2017-08-21</th>\n",
       "      <td>0.56</td>\n",
       "    </tr>\n",
       "    <tr>\n",
       "      <th>2017-08-20</th>\n",
       "      <td>NaN</td>\n",
       "    </tr>\n",
       "    <tr>\n",
       "      <th>2017-08-19</th>\n",
       "      <td>0.09</td>\n",
       "    </tr>\n",
       "  </tbody>\n",
       "</table>\n",
       "</div>"
      ],
      "text/plain": [
       "            Precipitation\n",
       "Date                     \n",
       "2017-08-23           0.45\n",
       "2017-08-22           0.50\n",
       "2017-08-21           0.56\n",
       "2017-08-20            NaN\n",
       "2017-08-19           0.09"
      ]
     },
     "execution_count": 35,
     "metadata": {},
     "output_type": "execute_result"
    }
   ],
   "source": [
    "# Design a query to retrieve the last 12 months of precipitation data and plot the results\n",
    "\n",
    "#### Calculate the date 1 year ago from the last data point in the database\n",
    "\n",
    "current_date_list = session.query(Measurement.date).\\\n",
    "    order_by(Measurement.date.desc()).limit(1).all()\n",
    "#print(current_date_list)\n",
    "last_date = dt.date(2017, 8, 23) - dt.timedelta(days=356)\n",
    "#print(last_date)\n",
    "\n",
    "\n",
    "#### Perform a query to retrieve the data and precipitation scores\n",
    "\n",
    "results = session.query(Measurement.date, Measurement.station, Measurement.prcp).\\\n",
    "    filter(Measurement.date > \"2016-08-22\")\n",
    "\n",
    "date = [result[0] for result in results]\n",
    "station = [result[1] for result in results]\n",
    "precip = [result[2] for result in results]\n",
    "\n",
    "#### Save the query results as a Pandas DataFrame and set the index to the date column\n",
    "\n",
    "last_12_months = pd.DataFrame(list(zip(date,precip)),columns=['Date','Precipitation'])\n",
    "#print(last_12_months.info())\n",
    "\n",
    "#### Complete the call to convert the date column\n",
    "\n",
    "#last_12_months['Date'] =  pd.to_datetime(last_12_months['Date'],\n",
    "                              #format='%Y-%m-%d')\n",
    "\n",
    "#last_12_months_filter = last_12_months[(last_12_months['Date'] > last_date)]\n",
    "#last_12_months_filter.head()\n",
    "#print(last_12_months_filter.info())\n",
    "#last_12_months.head() \n",
    "#print(last_12_months.info())\n",
    "\n",
    "\n",
    "#### Sort the dataframe by date\n",
    "\n",
    "last_12_months_sort = last_12_months.sort_index(axis = 0, ascending=False)\n",
    "\n",
    "# Remove the rows with missing data\n",
    "#clean_last_12_months = last_12_months_sort.dropna(how=\"any\")\n",
    "#clean_last_12_months.count()\n",
    "\n",
    "##### Set the index to the date column\n",
    "\n",
    "last_12_months_final = last_12_months_sort.set_index('Date')\n",
    "last_12_months_final.head()\n"
   ]
  },
  {
   "cell_type": "code",
   "execution_count": 36,
   "metadata": {},
   "outputs": [
    {
     "data": {
      "image/png": "[encoded data removed]",
      "text/plain": [
       "<Figure size 3600x216 with 1 Axes>"
      ]
     },
     "metadata": {},
     "output_type": "display_data"
    }
   ],
   "source": [
    "# Use Pandas Plotting with Matplotlib to plot the data\n",
    "ax = last_12_months_final.plot.bar(rot=0, figsize=(50,3))\n",
    "ax.set_facecolor(\"white\")\n",
    "x_axis = ax.axes.get_xaxis()\n",
    "x_label = x_axis.get_label()\n",
    "#x_label.set_visible(False)\n",
    "x_axis.set_visible(False)\n",
    "#plt.axis('off')\n",
    "\n",
    "plt.tight_layout()\n",
    "plt.savefig(\"lastyearprecipitation.png\")\n",
    "plt.show()\n",
    "plt.close()"
   ]
  },
  {
   "cell_type": "markdown",
   "metadata": {},
   "source": [
    "![precipitation](Images/precipitation.png)"
   ]
  },
  {
   "cell_type": "code",
   "execution_count": 37,
   "metadata": {},
   "outputs": [
    {
     "data": {
      "text/html": [
       "<div>\n",
       "<style scoped>\n",
       "    .dataframe tbody tr th:only-of-type {\n",
       "        vertical-align: middle;\n",
       "    }\n",
       "\n",
       "    .dataframe tbody tr th {\n",
       "        vertical-align: top;\n",
       "    }\n",
       "\n",
       "    .dataframe thead th {\n",
       "        text-align: right;\n",
       "    }\n",
       "</style>\n",
       "<table border=\"1\" class=\"dataframe\">\n",
       "  <thead>\n",
       "    <tr style=\"text-align: right;\">\n",
       "      <th></th>\n",
       "      <th>Precipitation</th>\n",
       "    </tr>\n",
       "  </thead>\n",
       "  <tbody>\n",
       "    <tr>\n",
       "      <th>count</th>\n",
       "      <td>2021.000000</td>\n",
       "    </tr>\n",
       "    <tr>\n",
       "      <th>mean</th>\n",
       "      <td>0.177279</td>\n",
       "    </tr>\n",
       "    <tr>\n",
       "      <th>std</th>\n",
       "      <td>0.461190</td>\n",
       "    </tr>\n",
       "    <tr>\n",
       "      <th>min</th>\n",
       "      <td>0.000000</td>\n",
       "    </tr>\n",
       "    <tr>\n",
       "      <th>25%</th>\n",
       "      <td>0.000000</td>\n",
       "    </tr>\n",
       "    <tr>\n",
       "      <th>50%</th>\n",
       "      <td>0.020000</td>\n",
       "    </tr>\n",
       "    <tr>\n",
       "      <th>75%</th>\n",
       "      <td>0.130000</td>\n",
       "    </tr>\n",
       "    <tr>\n",
       "      <th>max</th>\n",
       "      <td>6.700000</td>\n",
       "    </tr>\n",
       "  </tbody>\n",
       "</table>\n",
       "</div>"
      ],
      "text/plain": [
       "       Precipitation\n",
       "count    2021.000000\n",
       "mean        0.177279\n",
       "std         0.461190\n",
       "min         0.000000\n",
       "25%         0.000000\n",
       "50%         0.020000\n",
       "75%         0.130000\n",
       "max         6.700000"
      ]
     },
     "execution_count": 37,
     "metadata": {},
     "output_type": "execute_result"
    }
   ],
   "source": [
    "# Use Pandas to calcualte the summary statistics for the precipitation data\n",
    "#last_12_months_final_sort.describe()\n",
    "\n",
    "last_12_months_final.describe()"
   ]
  },
  {
   "cell_type": "markdown",
   "metadata": {},
   "source": [
    "![describe](Images/describe.png)"
   ]
  },
  {
   "cell_type": "code",
   "execution_count": 38,
   "metadata": {},
   "outputs": [
    {
     "name": "stdout",
     "output_type": "stream",
     "text": [
      "Total Stations: 9\n"
     ]
    }
   ],
   "source": [
    "# Design a query to show how many stations are available in this dataset?\n",
    "\n",
    "total_distinct_stations = session.query(Station.station).\\\n",
    "    group_by(Station.station).count()\n",
    "print(f'Total Stations: {total_distinct_stations}')\n"
   ]
  },
  {
   "cell_type": "code",
   "execution_count": 39,
   "metadata": {},
   "outputs": [
    {
     "data": {
      "text/plain": [
       "[('USC00519281', 2772),\n",
       " ('USC00519397', 2724),\n",
       " ('USC00513117', 2709),\n",
       " ('USC00519523', 2669),\n",
       " ('USC00516128', 2612),\n",
       " ('USC00514830', 2202),\n",
       " ('USC00511918', 1979),\n",
       " ('USC00517948', 1372),\n",
       " ('USC00518838', 511)]"
      ]
     },
     "execution_count": 39,
     "metadata": {},
     "output_type": "execute_result"
    }
   ],
   "source": [
    "# What are the most active stations? (i.e. what stations have the most rows)?\n",
    "# List the stations and the counts in descending order.\n",
    "session.query(Measurement.station, func.count(Measurement.date)).group_by(Measurement.station).order_by(func.count(Measurement.date).desc()).all()\n",
    " "
   ]
  },
  {
   "cell_type": "code",
   "execution_count": 47,
   "metadata": {},
   "outputs": [
    {
     "data": {
      "text/plain": [
       "[('USC00519281', 54.0, 85.0, 71.66378066378067)]"
      ]
     },
     "execution_count": 47,
     "metadata": {},
     "output_type": "execute_result"
    }
   ],
   "source": [
    "# Using the station id from the previous query, calculate the lowest temperature recorded, \n",
    "# highest temperature recorded, and average temperature most active station?\n",
    "\n",
    "session.query(Measurement.station, func.min(Measurement.tobs), func.max(Measurement.tobs), func.avg(Measurement.tobs)).group_by(Measurement.station).\\\n",
    "    filter(Measurement.station.contains('USC00519281')).all()\n"
   ]
  },
  {
   "cell_type": "code",
   "execution_count": 48,
   "metadata": {},
   "outputs": [
    {
     "data": {
      "text/plain": [
       "[('USC00519281', 2772),\n",
       " ('USC00519397', 2724),\n",
       " ('USC00513117', 2709),\n",
       " ('USC00519523', 2669),\n",
       " ('USC00516128', 2612),\n",
       " ('USC00514830', 2202),\n",
       " ('USC00511918', 1979),\n",
       " ('USC00517948', 1372),\n",
       " ('USC00518838', 511)]"
      ]
     },
     "execution_count": 48,
     "metadata": {},
     "output_type": "execute_result"
    }
   ],
   "source": [
    "# Choose the station with the highest number of temperature observations.\n",
    "session.query(Measurement.station, func.count(Measurement.tobs)).group_by(Measurement.station).order_by(func.count(Measurement.tobs).desc()).all()\n"
   ]
  },
  {
   "cell_type": "code",
   "execution_count": 67,
   "metadata": {},
   "outputs": [
    {
     "data": {
      "text/html": [
       "<div>\n",
       "<style scoped>\n",
       "    .dataframe tbody tr th:only-of-type {\n",
       "        vertical-align: middle;\n",
       "    }\n",
       "\n",
       "    .dataframe tbody tr th {\n",
       "        vertical-align: top;\n",
       "    }\n",
       "\n",
       "    .dataframe thead th {\n",
       "        text-align: right;\n",
       "    }\n",
       "</style>\n",
       "<table border=\"1\" class=\"dataframe\">\n",
       "  <thead>\n",
       "    <tr style=\"text-align: right;\">\n",
       "      <th></th>\n",
       "      <th>Temperature</th>\n",
       "    </tr>\n",
       "    <tr>\n",
       "      <th>Date</th>\n",
       "      <th></th>\n",
       "    </tr>\n",
       "  </thead>\n",
       "  <tbody>\n",
       "    <tr>\n",
       "      <th>2017-08-18</th>\n",
       "      <td>79.0</td>\n",
       "    </tr>\n",
       "    <tr>\n",
       "      <th>2017-08-17</th>\n",
       "      <td>76.0</td>\n",
       "    </tr>\n",
       "    <tr>\n",
       "      <th>2017-08-16</th>\n",
       "      <td>76.0</td>\n",
       "    </tr>\n",
       "    <tr>\n",
       "      <th>2017-08-15</th>\n",
       "      <td>77.0</td>\n",
       "    </tr>\n",
       "    <tr>\n",
       "      <th>2017-08-14</th>\n",
       "      <td>77.0</td>\n",
       "    </tr>\n",
       "  </tbody>\n",
       "</table>\n",
       "</div>"
      ],
      "text/plain": [
       "            Temperature\n",
       "Date                   \n",
       "2017-08-18         79.0\n",
       "2017-08-17         76.0\n",
       "2017-08-16         76.0\n",
       "2017-08-15         77.0\n",
       "2017-08-14         77.0"
      ]
     },
     "execution_count": 67,
     "metadata": {},
     "output_type": "execute_result"
    }
   ],
   "source": [
    "# Query the last 12 months of temperature observation data for this station and plot the results as a histogram\n",
    "\n",
    "results2 = session.query(Measurement.date, Measurement.station, Measurement.tobs).\\\n",
    "    filter(Measurement.date > '2016-08-22',Measurement.station.contains('USC00519281')).all() \n",
    "    \n",
    "date2 = [result[0] for result in results2]\n",
    "station2 = [result[1] for result in results2]\n",
    "tobs2 = [result[2] for result in results2]\n",
    "\n",
    "#### Save the query results as a Pandas DataFrame and set the index to the date column\n",
    "\n",
    "last_12_months_2 = pd.DataFrame(list(zip(date2,tobs2)),columns=['Date','Temperature'])\n",
    "last_12_months_2.head()\n",
    "\n",
    "#### Sort the dataframe by date\n",
    "\n",
    "last_12_months_sort_2 = last_12_months_2.sort_index(axis = 0, ascending=False)\n",
    "\n",
    "# Remove the rows with missing data\n",
    "#clean_last_12_months = last_12_months_sort.dropna(how=\"any\")\n",
    "#clean_last_12_months.count()\n",
    "\n",
    "##### Set the index to the date column\n",
    "\n",
    "last_12_months_final_2 = last_12_months_sort_2.set_index('Date')\n",
    "last_12_months_final_2.head()"
   ]
  },
  {
   "cell_type": "code",
   "execution_count": 69,
   "metadata": {},
   "outputs": [
    {
     "name": "stdout",
     "output_type": "stream",
     "text": [
      "74.0    39\n",
      "76.0    33\n",
      "75.0    33\n",
      "77.0    31\n",
      "72.0    22\n",
      "78.0    22\n",
      "70.0    22\n",
      "69.0    19\n",
      "73.0    18\n",
      "71.0    18\n",
      "79.0    18\n",
      "67.0    15\n",
      "68.0    12\n",
      "80.0    11\n",
      "65.0     7\n",
      "62.0     6\n",
      "66.0     5\n",
      "81.0     4\n",
      "63.0     4\n",
      "59.0     3\n",
      "64.0     3\n",
      "82.0     3\n",
      "60.0     2\n",
      "83.0     1\n",
      "61.0     1\n",
      "Name: Temperature, dtype: int64\n"
     ]
    }
   ],
   "source": [
    "temp_frequency = last_12_months_final_2['Temperature'].value_counts()\n",
    "print(temp_frequency)"
   ]
  },
  {
   "cell_type": "code",
   "execution_count": 81,
   "metadata": {},
   "outputs": [
    {
     "data": {
      "text/html": [
       "<div>\n",
       "<style scoped>\n",
       "    .dataframe tbody tr th:only-of-type {\n",
       "        vertical-align: middle;\n",
       "    }\n",
       "\n",
       "    .dataframe tbody tr th {\n",
       "        vertical-align: top;\n",
       "    }\n",
       "\n",
       "    .dataframe thead th {\n",
       "        text-align: right;\n",
       "    }\n",
       "</style>\n",
       "<table border=\"1\" class=\"dataframe\">\n",
       "  <thead>\n",
       "    <tr style=\"text-align: right;\">\n",
       "      <th></th>\n",
       "      <th>Count</th>\n",
       "    </tr>\n",
       "    <tr>\n",
       "      <th>Temperature</th>\n",
       "      <th></th>\n",
       "    </tr>\n",
       "  </thead>\n",
       "  <tbody>\n",
       "    <tr>\n",
       "      <th>74.0</th>\n",
       "      <td>39</td>\n",
       "    </tr>\n",
       "    <tr>\n",
       "      <th>76.0</th>\n",
       "      <td>33</td>\n",
       "    </tr>\n",
       "    <tr>\n",
       "      <th>75.0</th>\n",
       "      <td>33</td>\n",
       "    </tr>\n",
       "    <tr>\n",
       "      <th>77.0</th>\n",
       "      <td>31</td>\n",
       "    </tr>\n",
       "    <tr>\n",
       "      <th>72.0</th>\n",
       "      <td>22</td>\n",
       "    </tr>\n",
       "  </tbody>\n",
       "</table>\n",
       "</div>"
      ],
      "text/plain": [
       "             Count\n",
       "Temperature       \n",
       "74.0            39\n",
       "76.0            33\n",
       "75.0            33\n",
       "77.0            31\n",
       "72.0            22"
      ]
     },
     "execution_count": 81,
     "metadata": {},
     "output_type": "execute_result"
    }
   ],
   "source": [
    "temp_frequency_df = pd.DataFrame({'Temperature':temp_frequency.index, 'Count':temp_frequency.values})\n",
    "#temp_frequency_df.head()\n",
    "\n",
    "##### Set the index to the date column\n",
    "temp_frequency_index_df = temp_frequency_df.set_index('Temperature')\n",
    "temp_frequency_index_df.head()"
   ]
  },
  {
   "cell_type": "code",
   "execution_count": 111,
   "metadata": {},
   "outputs": [
    {
     "data": {
      "image/png": "[encoded data removed]",
      "text/plain": [
       "<Figure size 432x288 with 1 Axes>"
      ]
     },
     "metadata": {},
     "output_type": "display_data"
    }
   ],
   "source": [
    "# Use Pandas Plotting with Matplotlib to plot the data\n",
    "#ax = last_12_months_final_2['Temperature'].value_counts().hist(bins=12)\n",
    "ax = last_12_months_final_2['Temperature'].hist(bins=12)\n",
    "ax.legend(['tobs'])\n",
    "ax.set_xlabel(\"Temperature\")\n",
    "ax.set_ylabel(\"Frequency\")\n",
    "#plt.legend(['Red', 'Blue'])\n",
    "plt.tight_layout()\n",
    "plt.savefig(\"lastyearprecipitationforstation.png\")\n",
    "plt.show()\n",
    "plt.close()"
   ]
  },
  {
   "cell_type": "markdown",
   "metadata": {},
   "source": [
    "![precipitation](Images/station-histogram.png)"
   ]
  },
  {
   "cell_type": "code",
   "execution_count": 112,
   "metadata": {},
   "outputs": [
    {
     "name": "stdout",
     "output_type": "stream",
     "text": [
      "[(62.0, 69.57142857142857, 74.0)]\n"
     ]
    }
   ],
   "source": [
    "# This function called `calc_temps` will accept start date and end date in the format '%Y-%m-%d' \n",
    "# and return the minimum, average, and maximum temperatures for that range of dates\n",
    "def calc_temps(start_date, end_date):\n",
    "    \"\"\"TMIN, TAVG, and TMAX for a list of dates.\n",
    "    \n",
    "    Args:\n",
    "        start_date (string): A date string in the format %Y-%m-%d\n",
    "        end_date (string): A date string in the format %Y-%m-%d\n",
    "        \n",
    "    Returns:\n",
    "        TMIN, TAVE, and TMAX\n",
    "    \"\"\"\n",
    "    \n",
    "    return session.query(func.min(Measurement.tobs), func.avg(Measurement.tobs), func.max(Measurement.tobs)).\\\n",
    "        filter(Measurement.date >= start_date).filter(Measurement.date <= end_date).all()\n",
    "\n",
    "# function usage example\n",
    "print(calc_temps('2012-02-28', '2012-03-05'))"
   ]
  },
  {
   "cell_type": "code",
   "execution_count": 130,
   "metadata": {},
   "outputs": [
    {
     "name": "stdout",
     "output_type": "stream",
     "text": [
      "[(60.0, 68.23287671232876, 81.0)]\n"
     ]
    }
   ],
   "source": [
    "# Use your previous function `calc_temps` to calculate the tmin, tavg, and tmax \n",
    "# for your trip using the previous year's data for those same dates.\n",
    "def calc_temps(start_date, end_date):\n",
    "    \"\"\"TMIN, TAVG, and TMAX for a list of dates.\n",
    "    \n",
    "    Args:\n",
    "        start_date (string): A date string in the format %Y-%m-%d\n",
    "        end_date (string): A date string in the format %Y-%m-%d\n",
    "        \n",
    "    Returns:\n",
    "        TMIN, TAVE, and TMAX\n",
    "    \"\"\"\n",
    "    \n",
    "    return session.query(func.min(Measurement.tobs), func.avg(Measurement.tobs), func.max(Measurement.tobs)).\\\n",
    "        filter(Measurement.date >= start_date).filter(Measurement.date <= end_date).all()\n",
    "    \n",
    "    \n",
    "# function usage example\n",
    "trip_data = calc_temps('2017-01-01', '2017-01-12')\n",
    "print(trip_data)"
   ]
  },
  {
   "cell_type": "code",
   "execution_count": 177,
   "metadata": {},
   "outputs": [
    {
     "data": {
      "image/png": "[encoded data removed]",
      "text/plain": [
       "<Figure size 432x288 with 1 Axes>"
      ]
     },
     "metadata": {},
     "output_type": "display_data"
    }
   ],
   "source": [
    "# Plot the results from your previous query as a bar chart. \n",
    "# Use \"Trip Avg Temp\" as your Title\n",
    "# Use the average temperature for the y value\n",
    "# Use the peak-to-peak (tmax-tmin) value as the y error bar (yerr)\n",
    "trip_data_list = trip_data[0]\n",
    "temp_min = trip_data_list[0]\n",
    "temp_avg = trip_data_list[1]\n",
    "temp_max = trip_data_list[2]\n",
    "center = (temp_avg)/2\n",
    "error_temp = temp_max - temp_min\n",
    "\n",
    "trip_temps = pd.DataFrame({'Min': temp_min, 'Avg': temp_avg, 'Max': temp_max }, index=[0])\n",
    "trip_temps\n",
    "\n",
    "ax = trip_temps.plot.bar(x=\"Avg\", y=0, yerr=error_temp, align='center', rot=0, legend=False)\n",
    "plt.title('Trip Avg Temp')\n",
    "x_axis = ax.axes.get_xaxis()\n",
    "x_label = x_axis.get_label()\n",
    "x_axis.set_visible(False)\n",
    "\n",
    "y_axis = ax.axes.get_yaxis()\n",
    "y_label = y_axis.get_label()\n",
    "ax.yaxis.set_label_text('Temp (F)')\n",
    "#plt.ylabel('Temp (F)')\n",
    "plt.tight_layout()\n",
    "plt.savefig(\"triptempbarchart.png\")\n",
    "plt.show()\n",
    "plt.close()\n"
   ]
  },
  {
   "cell_type": "code",
   "execution_count": null,
   "metadata": {},
   "outputs": [],
   "source": [
    "# Calculate the total amount of rainfall per weather station for your trip dates using the previous year's matching dates.\n",
    "# Sort this in descending order by precipitation amount and list the station, name, latitude, longitude, and elevation\n",
    "\n"
   ]
  },
  {
   "cell_type": "markdown",
   "metadata": {},
   "source": [
    "## Optional Challenge Assignment"
   ]
  },
  {
   "cell_type": "code",
   "execution_count": null,
   "metadata": {},
   "outputs": [],
   "source": [
    "# Create a query that will calculate the daily normals \n",
    "# (i.e. the averages for tmin, tmax, and tavg for all historic data matching a specific month and day)\n",
    "\n",
    "def daily_normals(date):\n",
    "    \"\"\"Daily Normals.\n",
    "    \n",
    "    Args:\n",
    "        date (str): A date string in the format '%m-%d'\n",
    "        \n",
    "    Returns:\n",
    "        A list of tuples containing the daily normals, tmin, tavg, and tmax\n",
    "    \n",
    "    \"\"\"\n",
    "    \n",
    "    sel = [func.min(Measurement.tobs), func.avg(Measurement.tobs), func.max(Measurement.tobs)]\n",
    "    return session.query(*sel).filter(func.strftime(\"%m-%d\", Measurement.date) == date).all()\n",
    "    \n",
    "daily_normals(\"01-01\")"
   ]
  },
  {
   "cell_type": "code",
   "execution_count": null,
   "metadata": {},
   "outputs": [],
   "source": [
    "# calculate the daily normals for your trip\n",
    "# push each tuple of calculations into a list called `normals`\n",
    "\n",
    "# Set the start and end date of the trip\n",
    "\n",
    "# Use the start and end date to create a range of dates\n",
    "\n",
    "# Stip off the year and save a list of %m-%d strings\n",
    "\n",
    "# Loop through the list of %m-%d strings and calculate the normals for each date\n"
   ]
  },
  {
   "cell_type": "code",
   "execution_count": null,
   "metadata": {},
   "outputs": [],
   "source": [
    "# Load the previous query results into a Pandas DataFrame and add the `trip_dates` range as the `date` index\n"
   ]
  },
  {
   "cell_type": "code",
   "execution_count": null,
   "metadata": {},
   "outputs": [],
   "source": [
    "# Plot the daily normals as an area plot with `stacked=False`\n"
   ]
  },
  {
   "cell_type": "code",
   "execution_count": null,
   "metadata": {},
   "outputs": [],
   "source": [
    "    \n",
    "# Unpack the `emoji_id` and `scores` from results and save into separate lists\n",
    "#emoji_id = [result[1] for result in results[:10]]\n",
    "#scores = [int(result[2]) for result in results[:10]]\n",
    "#current_time = datetime.datetime.utcnow()\n",
    "\n",
    "#ten_weeks_ago = current_time - datetime.timedelta(weeks=10)\n",
    "\n",
    "#subjects_within_the_last_ten_weeks = session.query(Subject).filter(\n",
    "    #Subject.time > ten_weeks_ago).all()\n",
    "\n",
    "#####\n",
    "#query_date = dt.date(2019, 4, 8) - dt.timedelta(days=7)\n",
    "#print(\"Query Date: \", query_date)\n",
    "\n",
    "##############\n",
    "\n",
    "#current_date = datetime.date(2019, 4, 24)\n",
    "#d = dt.date(2019, 4, 24) - dt.timedelta(days=180)\n",
    "\n",
    "#dt.strptime(s,'%Y-%m-%d')\n",
    "\n",
    "#datetime.datetime.strptime(s,'%Y-%m-%d')\n",
    "\n",
    "#make a list of your datetimes\n",
    "#lst = [d, d2]\n",
    "\n",
    "#add one to each day in the list\n",
    "#[x + datetime.timedelta(days =1) for x in lst]\n",
    "\n",
    "#filter out dates from 2020 in list\n",
    "#filter(lambda x: x < dt.datatime(2020, 1, 1), lst)\n",
    "\n",
    "#help here:\n",
    "#https://chrisalbon.com/python/basics/strings_to_datetime/\n",
    "#ten_weeks_ago = current_time - datetime.timedelta(weeks=10)\n",
    "\n",
    "#subjects_within_the_last_ten_weeks = session.query(Subject).filter(\n",
    "    #Subject.time > ten_weeks_ago).all()\n",
    "\n",
    "#recent_year = session.query(*).\\\n",
    "    #filter(func.strftime(\"%m\", Dow.date) == \"05\")\n",
    "\n",
    "    \n",
    "    \n",
    "#current_date = [item[0] for item in current_date_list]\n",
    "#print(current_date)\n",
    "\n",
    "#current_date_string = \"\".join(current_date)\n",
    "#print(current_date_string)\n",
    "\n",
    "#current_date_dt = dt.datetime.strptime(current_date_string,'%Y-%m-%d')\n",
    "#print(current_date_dt)\n",
    "\n",
    "#last_date_test = dt.date(current_date_string) - dt.timedelta(days=356)\n",
    "#print(last_date_test)"
   ]
  }
 ],
 "metadata": {
  "kernel_info": {
   "name": "python3"
  },
  "kernelspec": {
   "display_name": "Python 3",
   "language": "python",
   "name": "python3"
  },
  "language_info": {
   "codemirror_mode": {
    "name": "ipython",
    "version": 3
   },
   "file_extension": ".py",
   "mimetype": "text/x-python",
   "name": "python",
   "nbconvert_exporter": "python",
   "pygments_lexer": "ipython3",
   "version": "3.7.0"
  },
  "nteract": {
   "version": "0.12.3"
  },
  "varInspector": {
   "cols": {
    "lenName": 16,
    "lenType": 16,
    "lenVar": 40
   },
   "kernels_config": {
    "python": {
     "delete_cmd_postfix": "",
     "delete_cmd_prefix": "del ",
     "library": "var_list.py",
     "varRefreshCmd": "print(var_dic_list())"
    },
    "r": {
     "delete_cmd_postfix": ") ",
     "delete_cmd_prefix": "rm(",
     "library": "var_list.r",
     "varRefreshCmd": "cat(var_dic_list()) "
    }
   },
   "types_to_exclude": [
    "module",
    "function",
    "builtin_function_or_method",
    "instance",
    "_Feature"
   ],
   "window_display": false
  }
 },
 "nbformat": 4,
 "nbformat_minor": 2
}
